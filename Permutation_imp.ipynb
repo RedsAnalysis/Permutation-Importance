{
 "cells": [
  {
   "cell_type": "code",
   "execution_count": 16,
   "id": "3697eee8",
   "metadata": {},
   "outputs": [],
   "source": [
    "from sklearn.datasets import load_wine\n",
    "from sklearn.ensemble import RandomForestClassifier\n",
    "from sklearn.naive_bayes import GaussianNB"
   ]
  },
  {
   "cell_type": "code",
   "execution_count": 19,
   "id": "8a988d35",
   "metadata": {},
   "outputs": [],
   "source": [
    "data = load_wine()"
   ]
  },
  {
   "cell_type": "code",
   "execution_count": 20,
   "id": "46fef367",
   "metadata": {},
   "outputs": [],
   "source": [
    "X,y = data[\"data\"], data[\"target\"]"
   ]
  },
  {
   "cell_type": "code",
   "execution_count": null,
   "id": "cf623ce0",
   "metadata": {},
   "outputs": [],
   "source": []
  },
  {
   "cell_type": "code",
   "execution_count": 24,
   "id": "9cdae4af",
   "metadata": {},
   "outputs": [],
   "source": [
    "from sklearn.model_selection import train_test_split"
   ]
  },
  {
   "cell_type": "code",
   "execution_count": 25,
   "id": "c2390d8d",
   "metadata": {},
   "outputs": [],
   "source": [
    "X_train,X_test,y_train,y_test = train_test_split(X,y,test_size=0.2)"
   ]
  },
  {
   "cell_type": "code",
   "execution_count": 26,
   "id": "c01256d4",
   "metadata": {},
   "outputs": [],
   "source": [
    "clf = RandomForestClassifier(n_jobs = -1)"
   ]
  },
  {
   "cell_type": "code",
   "execution_count": 29,
   "id": "b6d0a3af",
   "metadata": {},
   "outputs": [
    {
     "data": {
      "text/html": [
       "<style>#sk-container-id-1 {color: black;}#sk-container-id-1 pre{padding: 0;}#sk-container-id-1 div.sk-toggleable {background-color: white;}#sk-container-id-1 label.sk-toggleable__label {cursor: pointer;display: block;width: 100%;margin-bottom: 0;padding: 0.3em;box-sizing: border-box;text-align: center;}#sk-container-id-1 label.sk-toggleable__label-arrow:before {content: \"▸\";float: left;margin-right: 0.25em;color: #696969;}#sk-container-id-1 label.sk-toggleable__label-arrow:hover:before {color: black;}#sk-container-id-1 div.sk-estimator:hover label.sk-toggleable__label-arrow:before {color: black;}#sk-container-id-1 div.sk-toggleable__content {max-height: 0;max-width: 0;overflow: hidden;text-align: left;background-color: #f0f8ff;}#sk-container-id-1 div.sk-toggleable__content pre {margin: 0.2em;color: black;border-radius: 0.25em;background-color: #f0f8ff;}#sk-container-id-1 input.sk-toggleable__control:checked~div.sk-toggleable__content {max-height: 200px;max-width: 100%;overflow: auto;}#sk-container-id-1 input.sk-toggleable__control:checked~label.sk-toggleable__label-arrow:before {content: \"▾\";}#sk-container-id-1 div.sk-estimator input.sk-toggleable__control:checked~label.sk-toggleable__label {background-color: #d4ebff;}#sk-container-id-1 div.sk-label input.sk-toggleable__control:checked~label.sk-toggleable__label {background-color: #d4ebff;}#sk-container-id-1 input.sk-hidden--visually {border: 0;clip: rect(1px 1px 1px 1px);clip: rect(1px, 1px, 1px, 1px);height: 1px;margin: -1px;overflow: hidden;padding: 0;position: absolute;width: 1px;}#sk-container-id-1 div.sk-estimator {font-family: monospace;background-color: #f0f8ff;border: 1px dotted black;border-radius: 0.25em;box-sizing: border-box;margin-bottom: 0.5em;}#sk-container-id-1 div.sk-estimator:hover {background-color: #d4ebff;}#sk-container-id-1 div.sk-parallel-item::after {content: \"\";width: 100%;border-bottom: 1px solid gray;flex-grow: 1;}#sk-container-id-1 div.sk-label:hover label.sk-toggleable__label {background-color: #d4ebff;}#sk-container-id-1 div.sk-serial::before {content: \"\";position: absolute;border-left: 1px solid gray;box-sizing: border-box;top: 0;bottom: 0;left: 50%;z-index: 0;}#sk-container-id-1 div.sk-serial {display: flex;flex-direction: column;align-items: center;background-color: white;padding-right: 0.2em;padding-left: 0.2em;position: relative;}#sk-container-id-1 div.sk-item {position: relative;z-index: 1;}#sk-container-id-1 div.sk-parallel {display: flex;align-items: stretch;justify-content: center;background-color: white;position: relative;}#sk-container-id-1 div.sk-item::before, #sk-container-id-1 div.sk-parallel-item::before {content: \"\";position: absolute;border-left: 1px solid gray;box-sizing: border-box;top: 0;bottom: 0;left: 50%;z-index: -1;}#sk-container-id-1 div.sk-parallel-item {display: flex;flex-direction: column;z-index: 1;position: relative;background-color: white;}#sk-container-id-1 div.sk-parallel-item:first-child::after {align-self: flex-end;width: 50%;}#sk-container-id-1 div.sk-parallel-item:last-child::after {align-self: flex-start;width: 50%;}#sk-container-id-1 div.sk-parallel-item:only-child::after {width: 0;}#sk-container-id-1 div.sk-dashed-wrapped {border: 1px dashed gray;margin: 0 0.4em 0.5em 0.4em;box-sizing: border-box;padding-bottom: 0.4em;background-color: white;}#sk-container-id-1 div.sk-label label {font-family: monospace;font-weight: bold;display: inline-block;line-height: 1.2em;}#sk-container-id-1 div.sk-label-container {text-align: center;}#sk-container-id-1 div.sk-container {/* jupyter's `normalize.less` sets `[hidden] { display: none; }` but bootstrap.min.css set `[hidden] { display: none !important; }` so we also need the `!important` here to be able to override the default hidden behavior on the sphinx rendered scikit-learn.org. See: https://github.com/scikit-learn/scikit-learn/issues/21755 */display: inline-block !important;position: relative;}#sk-container-id-1 div.sk-text-repr-fallback {display: none;}</style><div id=\"sk-container-id-1\" class=\"sk-top-container\"><div class=\"sk-text-repr-fallback\"><pre>RandomForestClassifier(n_jobs=-1)</pre><b>In a Jupyter environment, please rerun this cell to show the HTML representation or trust the notebook. <br />On GitHub, the HTML representation is unable to render, please try loading this page with nbviewer.org.</b></div><div class=\"sk-container\" hidden><div class=\"sk-item\"><div class=\"sk-estimator sk-toggleable\"><input class=\"sk-toggleable__control sk-hidden--visually\" id=\"sk-estimator-id-1\" type=\"checkbox\" checked><label for=\"sk-estimator-id-1\" class=\"sk-toggleable__label sk-toggleable__label-arrow\">RandomForestClassifier</label><div class=\"sk-toggleable__content\"><pre>RandomForestClassifier(n_jobs=-1)</pre></div></div></div></div></div>"
      ],
      "text/plain": [
       "RandomForestClassifier(n_jobs=-1)"
      ]
     },
     "execution_count": 29,
     "metadata": {},
     "output_type": "execute_result"
    }
   ],
   "source": [
    "clf.fit(X_train,y_train)"
   ]
  },
  {
   "cell_type": "code",
   "execution_count": 32,
   "id": "aa7bfaad",
   "metadata": {},
   "outputs": [
    {
     "data": {
      "text/plain": [
       "0.9722222222222222"
      ]
     },
     "execution_count": 32,
     "metadata": {},
     "output_type": "execute_result"
    }
   ],
   "source": [
    "clf.score(X_test,y_test)"
   ]
  },
  {
   "cell_type": "code",
   "execution_count": 42,
   "id": "04dba0ea",
   "metadata": {},
   "outputs": [
    {
     "data": {
      "text/plain": [
       "{'alcohol': 0.10122803126143398,\n",
       " 'malic_acid': 0.037081120313771886,\n",
       " 'ash': 0.016358736053408294,\n",
       " 'alcalinity_of_ash': 0.02043848750827008,\n",
       " 'magnesium': 0.020341677347277914,\n",
       " 'total_phenols': 0.05413776550978385,\n",
       " 'flavanoids': 0.1785261232492319,\n",
       " 'nonflavanoid_phenols': 0.013449162580230009,\n",
       " 'proanthocyanins': 0.029838276426774363,\n",
       " 'color_intensity': 0.18399333416849992,\n",
       " 'hue': 0.09088166541562849,\n",
       " 'od280/od315_of_diluted_wines': 0.11657123818757842,\n",
       " 'proline': 0.13715438197811092}"
      ]
     },
     "execution_count": 42,
     "metadata": {},
     "output_type": "execute_result"
    }
   ],
   "source": [
    "imp = dict(zip(data[\"feature_names\"],clf.feature_importances_))\n",
    "imp"
   ]
  },
  {
   "cell_type": "code",
   "execution_count": 45,
   "id": "742f69da",
   "metadata": {},
   "outputs": [
    {
     "data": {
      "text/plain": [
       "{'color_intensity': 0.18399333416849992,\n",
       " 'flavanoids': 0.1785261232492319,\n",
       " 'proline': 0.13715438197811092,\n",
       " 'od280/od315_of_diluted_wines': 0.11657123818757842,\n",
       " 'alcohol': 0.10122803126143398,\n",
       " 'hue': 0.09088166541562849,\n",
       " 'total_phenols': 0.05413776550978385,\n",
       " 'malic_acid': 0.037081120313771886,\n",
       " 'proanthocyanins': 0.029838276426774363,\n",
       " 'alcalinity_of_ash': 0.02043848750827008,\n",
       " 'magnesium': 0.020341677347277914,\n",
       " 'ash': 0.016358736053408294,\n",
       " 'nonflavanoid_phenols': 0.013449162580230009}"
      ]
     },
     "execution_count": 45,
     "metadata": {},
     "output_type": "execute_result"
    }
   ],
   "source": [
    "imp = {k:v for k, v in sorted(imp.items(), key = lambda x: x[1], reverse = True)}\n",
    "imp"
   ]
  },
  {
   "cell_type": "code",
   "execution_count": 47,
   "id": "2870d8e7",
   "metadata": {},
   "outputs": [],
   "source": [
    "clf1 = GaussianNB()"
   ]
  },
  {
   "cell_type": "code",
   "execution_count": 48,
   "id": "7f7d9ac2",
   "metadata": {},
   "outputs": [
    {
     "data": {
      "text/html": [
       "<style>#sk-container-id-2 {color: black;}#sk-container-id-2 pre{padding: 0;}#sk-container-id-2 div.sk-toggleable {background-color: white;}#sk-container-id-2 label.sk-toggleable__label {cursor: pointer;display: block;width: 100%;margin-bottom: 0;padding: 0.3em;box-sizing: border-box;text-align: center;}#sk-container-id-2 label.sk-toggleable__label-arrow:before {content: \"▸\";float: left;margin-right: 0.25em;color: #696969;}#sk-container-id-2 label.sk-toggleable__label-arrow:hover:before {color: black;}#sk-container-id-2 div.sk-estimator:hover label.sk-toggleable__label-arrow:before {color: black;}#sk-container-id-2 div.sk-toggleable__content {max-height: 0;max-width: 0;overflow: hidden;text-align: left;background-color: #f0f8ff;}#sk-container-id-2 div.sk-toggleable__content pre {margin: 0.2em;color: black;border-radius: 0.25em;background-color: #f0f8ff;}#sk-container-id-2 input.sk-toggleable__control:checked~div.sk-toggleable__content {max-height: 200px;max-width: 100%;overflow: auto;}#sk-container-id-2 input.sk-toggleable__control:checked~label.sk-toggleable__label-arrow:before {content: \"▾\";}#sk-container-id-2 div.sk-estimator input.sk-toggleable__control:checked~label.sk-toggleable__label {background-color: #d4ebff;}#sk-container-id-2 div.sk-label input.sk-toggleable__control:checked~label.sk-toggleable__label {background-color: #d4ebff;}#sk-container-id-2 input.sk-hidden--visually {border: 0;clip: rect(1px 1px 1px 1px);clip: rect(1px, 1px, 1px, 1px);height: 1px;margin: -1px;overflow: hidden;padding: 0;position: absolute;width: 1px;}#sk-container-id-2 div.sk-estimator {font-family: monospace;background-color: #f0f8ff;border: 1px dotted black;border-radius: 0.25em;box-sizing: border-box;margin-bottom: 0.5em;}#sk-container-id-2 div.sk-estimator:hover {background-color: #d4ebff;}#sk-container-id-2 div.sk-parallel-item::after {content: \"\";width: 100%;border-bottom: 1px solid gray;flex-grow: 1;}#sk-container-id-2 div.sk-label:hover label.sk-toggleable__label {background-color: #d4ebff;}#sk-container-id-2 div.sk-serial::before {content: \"\";position: absolute;border-left: 1px solid gray;box-sizing: border-box;top: 0;bottom: 0;left: 50%;z-index: 0;}#sk-container-id-2 div.sk-serial {display: flex;flex-direction: column;align-items: center;background-color: white;padding-right: 0.2em;padding-left: 0.2em;position: relative;}#sk-container-id-2 div.sk-item {position: relative;z-index: 1;}#sk-container-id-2 div.sk-parallel {display: flex;align-items: stretch;justify-content: center;background-color: white;position: relative;}#sk-container-id-2 div.sk-item::before, #sk-container-id-2 div.sk-parallel-item::before {content: \"\";position: absolute;border-left: 1px solid gray;box-sizing: border-box;top: 0;bottom: 0;left: 50%;z-index: -1;}#sk-container-id-2 div.sk-parallel-item {display: flex;flex-direction: column;z-index: 1;position: relative;background-color: white;}#sk-container-id-2 div.sk-parallel-item:first-child::after {align-self: flex-end;width: 50%;}#sk-container-id-2 div.sk-parallel-item:last-child::after {align-self: flex-start;width: 50%;}#sk-container-id-2 div.sk-parallel-item:only-child::after {width: 0;}#sk-container-id-2 div.sk-dashed-wrapped {border: 1px dashed gray;margin: 0 0.4em 0.5em 0.4em;box-sizing: border-box;padding-bottom: 0.4em;background-color: white;}#sk-container-id-2 div.sk-label label {font-family: monospace;font-weight: bold;display: inline-block;line-height: 1.2em;}#sk-container-id-2 div.sk-label-container {text-align: center;}#sk-container-id-2 div.sk-container {/* jupyter's `normalize.less` sets `[hidden] { display: none; }` but bootstrap.min.css set `[hidden] { display: none !important; }` so we also need the `!important` here to be able to override the default hidden behavior on the sphinx rendered scikit-learn.org. See: https://github.com/scikit-learn/scikit-learn/issues/21755 */display: inline-block !important;position: relative;}#sk-container-id-2 div.sk-text-repr-fallback {display: none;}</style><div id=\"sk-container-id-2\" class=\"sk-top-container\"><div class=\"sk-text-repr-fallback\"><pre>GaussianNB()</pre><b>In a Jupyter environment, please rerun this cell to show the HTML representation or trust the notebook. <br />On GitHub, the HTML representation is unable to render, please try loading this page with nbviewer.org.</b></div><div class=\"sk-container\" hidden><div class=\"sk-item\"><div class=\"sk-estimator sk-toggleable\"><input class=\"sk-toggleable__control sk-hidden--visually\" id=\"sk-estimator-id-2\" type=\"checkbox\" checked><label for=\"sk-estimator-id-2\" class=\"sk-toggleable__label sk-toggleable__label-arrow\">GaussianNB</label><div class=\"sk-toggleable__content\"><pre>GaussianNB()</pre></div></div></div></div></div>"
      ],
      "text/plain": [
       "GaussianNB()"
      ]
     },
     "execution_count": 48,
     "metadata": {},
     "output_type": "execute_result"
    }
   ],
   "source": [
    "clf1.fit(X_train,y_train)"
   ]
  },
  {
   "cell_type": "code",
   "execution_count": 50,
   "id": "8fe7e29d",
   "metadata": {},
   "outputs": [
    {
     "data": {
      "text/plain": [
       "0.9166666666666666"
      ]
     },
     "execution_count": 50,
     "metadata": {},
     "output_type": "execute_result"
    }
   ],
   "source": [
    "clf1.score(X_test,y_test)"
   ]
  },
  {
   "cell_type": "code",
   "execution_count": 51,
   "id": "a3369b4a",
   "metadata": {},
   "outputs": [
    {
     "ename": "AttributeError",
     "evalue": "'GaussianNB' object has no attribute 'feature_importances_'",
     "output_type": "error",
     "traceback": [
      "\u001b[1;31m---------------------------------------------------------------------------\u001b[0m",
      "\u001b[1;31mAttributeError\u001b[0m                            Traceback (most recent call last)",
      "Cell \u001b[1;32mIn[51], line 1\u001b[0m\n\u001b[1;32m----> 1\u001b[0m clf1\u001b[38;5;241m.\u001b[39mfeature_importances_\n",
      "\u001b[1;31mAttributeError\u001b[0m: 'GaussianNB' object has no attribute 'feature_importances_'"
     ]
    }
   ],
   "source": [
    "clf1.feature_importances_"
   ]
  },
  {
   "cell_type": "code",
   "execution_count": 58,
   "id": "e85486ab",
   "metadata": {},
   "outputs": [],
   "source": [
    "from sklearn.inspection import permutation_importance"
   ]
  },
  {
   "cell_type": "code",
   "execution_count": 60,
   "id": "2e227ee0",
   "metadata": {},
   "outputs": [
    {
     "data": {
      "text/plain": [
       "{'importances_mean': array([ 0.01555556, -0.00611111, -0.00444444, -0.03166667, -0.01444444,\n",
       "        -0.04944444,  0.03166667, -0.04277778, -0.03888889,  0.01388889,\n",
       "        -0.02944444, -0.02166667,  0.01777778]),\n",
       " 'importances_std': array([0.03520662, 0.01150684, 0.01160034, 0.01925303, 0.01862562,\n",
       "        0.02172357, 0.04681524, 0.02676487, 0.02078699, 0.03859012,\n",
       "        0.02509857, 0.0300668 , 0.03081205]),\n",
       " 'importances': array([[ 0.02777778,  0.05555556,  0.02777778,  0.02777778, -0.02777778,\n",
       "          0.        , -0.02777778, -0.02777778,  0.02777778,  0.02777778,\n",
       "          0.        ,  0.02777778,  0.        , -0.02777778,  0.        ,\n",
       "          0.05555556,  0.05555556,  0.        ,  0.02777778,  0.        ,\n",
       "          0.08333333,  0.        , -0.05555556,  0.05555556,  0.05555556,\n",
       "         -0.02777778,  0.02777778,  0.05555556,  0.        , -0.02777778,\n",
       "         -0.02777778,  0.05555556,  0.02777778,  0.        , -0.05555556,\n",
       "          0.05555556, -0.05555556,  0.02777778,  0.        ,  0.02777778,\n",
       "         -0.02777778,  0.05555556,  0.        ,  0.        ,  0.02777778,\n",
       "          0.05555556,  0.02777778,  0.08333333,  0.02777778,  0.05555556],\n",
       "        [ 0.        , -0.02777778,  0.        , -0.02777778,  0.        ,\n",
       "          0.        ,  0.        , -0.02777778,  0.        ,  0.        ,\n",
       "          0.        ,  0.        ,  0.        ,  0.        ,  0.        ,\n",
       "         -0.02777778, -0.02777778,  0.        ,  0.        , -0.02777778,\n",
       "          0.        ,  0.        ,  0.        ,  0.        ,  0.        ,\n",
       "          0.        ,  0.        ,  0.        , -0.02777778,  0.        ,\n",
       "          0.        , -0.02777778,  0.        ,  0.        , -0.02777778,\n",
       "          0.        ,  0.        ,  0.        , -0.02777778,  0.        ,\n",
       "          0.        ,  0.        ,  0.        ,  0.        ,  0.        ,\n",
       "          0.        ,  0.        ,  0.        , -0.02777778,  0.        ],\n",
       "        [ 0.        ,  0.        , -0.02777778,  0.        ,  0.        ,\n",
       "          0.        ,  0.        ,  0.        ,  0.        ,  0.        ,\n",
       "         -0.05555556,  0.        ,  0.        ,  0.        ,  0.        ,\n",
       "          0.        ,  0.        , -0.02777778,  0.        ,  0.        ,\n",
       "          0.        ,  0.        ,  0.        , -0.02777778,  0.        ,\n",
       "          0.        ,  0.        , -0.02777778,  0.        , -0.02777778,\n",
       "          0.        ,  0.        ,  0.        ,  0.        ,  0.        ,\n",
       "          0.        ,  0.        ,  0.        , -0.02777778,  0.        ,\n",
       "          0.        ,  0.        ,  0.        ,  0.        ,  0.        ,\n",
       "          0.        ,  0.        ,  0.        ,  0.        ,  0.        ],\n",
       "        [-0.02777778, -0.02777778, -0.02777778, -0.05555556, -0.05555556,\n",
       "         -0.02777778, -0.02777778,  0.        , -0.02777778, -0.05555556,\n",
       "         -0.02777778, -0.02777778, -0.02777778, -0.05555556, -0.05555556,\n",
       "         -0.05555556, -0.02777778, -0.05555556,  0.        , -0.02777778,\n",
       "         -0.02777778,  0.        , -0.02777778, -0.05555556, -0.02777778,\n",
       "         -0.05555556, -0.02777778,  0.        , -0.05555556, -0.05555556,\n",
       "         -0.05555556, -0.02777778, -0.05555556,  0.        , -0.02777778,\n",
       "         -0.02777778, -0.02777778, -0.05555556, -0.02777778, -0.05555556,\n",
       "          0.        , -0.02777778, -0.02777778, -0.02777778,  0.        ,\n",
       "         -0.02777778,  0.        , -0.02777778,  0.        , -0.05555556],\n",
       "        [ 0.        ,  0.        , -0.02777778,  0.        ,  0.        ,\n",
       "          0.        , -0.02777778, -0.02777778, -0.05555556,  0.        ,\n",
       "          0.        ,  0.        ,  0.        , -0.02777778, -0.05555556,\n",
       "          0.        ,  0.        , -0.02777778,  0.        , -0.02777778,\n",
       "          0.        ,  0.        , -0.02777778, -0.05555556, -0.02777778,\n",
       "          0.        , -0.02777778,  0.        , -0.02777778, -0.05555556,\n",
       "         -0.02777778,  0.        , -0.02777778,  0.        ,  0.        ,\n",
       "          0.        ,  0.        ,  0.        , -0.05555556,  0.        ,\n",
       "          0.        , -0.02777778,  0.        , -0.02777778,  0.        ,\n",
       "          0.        ,  0.        , -0.02777778,  0.        , -0.02777778],\n",
       "        [-0.05555556, -0.05555556, -0.05555556, -0.05555556, -0.02777778,\n",
       "         -0.02777778, -0.05555556,  0.        , -0.02777778, -0.08333333,\n",
       "         -0.02777778, -0.02777778, -0.05555556, -0.05555556, -0.05555556,\n",
       "         -0.05555556, -0.05555556, -0.05555556, -0.05555556, -0.05555556,\n",
       "         -0.02777778, -0.02777778, -0.05555556, -0.05555556, -0.02777778,\n",
       "          0.        , -0.02777778, -0.08333333, -0.05555556, -0.05555556,\n",
       "         -0.05555556, -0.02777778, -0.02777778,  0.        , -0.08333333,\n",
       "         -0.08333333, -0.05555556, -0.08333333, -0.08333333, -0.05555556,\n",
       "         -0.02777778, -0.05555556, -0.05555556, -0.08333333, -0.08333333,\n",
       "         -0.05555556, -0.05555556, -0.05555556, -0.02777778, -0.05555556],\n",
       "        [ 0.05555556,  0.02777778,  0.02777778,  0.11111111,  0.08333333,\n",
       "          0.08333333,  0.11111111,  0.02777778,  0.        , -0.05555556,\n",
       "         -0.02777778,  0.08333333,  0.        , -0.02777778,  0.05555556,\n",
       "          0.        , -0.02777778, -0.02777778, -0.02777778,  0.        ,\n",
       "          0.13888889,  0.02777778,  0.02777778, -0.02777778,  0.05555556,\n",
       "          0.05555556,  0.02777778,  0.        ,  0.08333333,  0.02777778,\n",
       "          0.05555556,  0.08333333,  0.        ,  0.05555556,  0.05555556,\n",
       "          0.08333333,  0.        ,  0.        , -0.08333333,  0.08333333,\n",
       "          0.02777778,  0.05555556,  0.        , -0.02777778,  0.05555556,\n",
       "          0.02777778,  0.02777778,  0.11111111,  0.02777778,  0.05555556],\n",
       "        [-0.02777778, -0.08333333, -0.02777778, -0.02777778, -0.02777778,\n",
       "          0.        , -0.08333333, -0.02777778, -0.08333333, -0.02777778,\n",
       "         -0.05555556, -0.02777778, -0.05555556, -0.05555556, -0.05555556,\n",
       "         -0.02777778, -0.05555556, -0.05555556,  0.        , -0.02777778,\n",
       "          0.        , -0.02777778, -0.02777778, -0.08333333, -0.05555556,\n",
       "         -0.02777778, -0.05555556, -0.08333333, -0.08333333, -0.02777778,\n",
       "         -0.05555556, -0.02777778, -0.05555556,  0.        , -0.08333333,\n",
       "         -0.02777778, -0.02777778, -0.05555556, -0.05555556,  0.        ,\n",
       "          0.02777778, -0.02777778, -0.05555556, -0.05555556, -0.08333333,\n",
       "         -0.02777778, -0.05555556, -0.05555556, -0.02777778, -0.08333333],\n",
       "        [-0.02777778, -0.05555556, -0.02777778, -0.02777778, -0.02777778,\n",
       "          0.        , -0.05555556, -0.02777778, -0.05555556, -0.05555556,\n",
       "         -0.02777778, -0.02777778, -0.05555556, -0.02777778, -0.02777778,\n",
       "         -0.05555556, -0.02777778, -0.02777778, -0.05555556, -0.02777778,\n",
       "         -0.02777778,  0.        , -0.05555556, -0.08333333, -0.05555556,\n",
       "         -0.02777778, -0.05555556, -0.08333333, -0.02777778, -0.05555556,\n",
       "         -0.02777778, -0.02777778, -0.02777778,  0.        , -0.08333333,\n",
       "         -0.05555556, -0.02777778, -0.05555556,  0.        , -0.02777778,\n",
       "         -0.02777778, -0.05555556, -0.05555556, -0.02777778, -0.08333333,\n",
       "         -0.02777778, -0.02777778, -0.05555556, -0.02777778, -0.02777778],\n",
       "        [ 0.02777778,  0.08333333,  0.02777778,  0.02777778,  0.02777778,\n",
       "          0.02777778, -0.02777778,  0.        ,  0.        ,  0.02777778,\n",
       "          0.02777778,  0.08333333,  0.02777778, -0.02777778, -0.05555556,\n",
       "          0.02777778,  0.        ,  0.        ,  0.02777778, -0.05555556,\n",
       "         -0.05555556,  0.02777778,  0.05555556, -0.05555556, -0.02777778,\n",
       "         -0.02777778,  0.05555556,  0.02777778,  0.05555556, -0.02777778,\n",
       "          0.02777778,  0.08333333,  0.02777778,  0.05555556,  0.        ,\n",
       "          0.05555556, -0.02777778, -0.02777778, -0.02777778,  0.        ,\n",
       "          0.        ,  0.05555556,  0.05555556, -0.02777778,  0.        ,\n",
       "          0.05555556, -0.02777778,  0.        ,  0.08333333,  0.02777778],\n",
       "        [ 0.        , -0.02777778,  0.        ,  0.        , -0.02777778,\n",
       "         -0.02777778,  0.        ,  0.        ,  0.        , -0.08333333,\n",
       "         -0.02777778,  0.        , -0.02777778, -0.02777778, -0.08333333,\n",
       "         -0.02777778, -0.05555556, -0.02777778,  0.        , -0.02777778,\n",
       "         -0.02777778, -0.02777778, -0.05555556, -0.05555556, -0.02777778,\n",
       "         -0.05555556, -0.02777778, -0.05555556, -0.02777778, -0.02777778,\n",
       "         -0.08333333, -0.02777778, -0.02777778,  0.02777778,  0.02777778,\n",
       "         -0.05555556, -0.02777778, -0.02777778, -0.02777778, -0.05555556,\n",
       "          0.        , -0.02777778, -0.05555556, -0.02777778, -0.02777778,\n",
       "         -0.02777778, -0.05555556, -0.05555556, -0.05555556,  0.        ],\n",
       "        [ 0.02777778, -0.02777778, -0.05555556,  0.02777778, -0.05555556,\n",
       "          0.        , -0.02777778, -0.02777778, -0.05555556, -0.08333333,\n",
       "         -0.02777778,  0.        , -0.05555556,  0.        , -0.02777778,\n",
       "         -0.05555556, -0.02777778,  0.        , -0.02777778,  0.        ,\n",
       "          0.02777778, -0.02777778,  0.        , -0.05555556,  0.        ,\n",
       "          0.02777778, -0.02777778, -0.05555556, -0.02777778, -0.05555556,\n",
       "         -0.02777778,  0.        , -0.02777778,  0.02777778, -0.05555556,\n",
       "         -0.02777778, -0.05555556,  0.        , -0.02777778, -0.02777778,\n",
       "         -0.02777778,  0.        ,  0.        ,  0.        , -0.02777778,\n",
       "         -0.08333333, -0.05555556,  0.05555556, -0.02777778,  0.        ],\n",
       "        [ 0.08333333,  0.05555556, -0.05555556,  0.05555556,  0.        ,\n",
       "          0.02777778,  0.02777778,  0.05555556,  0.05555556,  0.05555556,\n",
       "          0.        ,  0.02777778,  0.05555556, -0.05555556,  0.        ,\n",
       "          0.02777778,  0.02777778,  0.02777778,  0.02777778, -0.02777778,\n",
       "          0.        ,  0.        ,  0.        ,  0.02777778,  0.        ,\n",
       "          0.        ,  0.        ,  0.02777778,  0.        ,  0.        ,\n",
       "          0.02777778,  0.02777778,  0.        ,  0.        ,  0.        ,\n",
       "          0.        ,  0.        ,  0.05555556, -0.02777778,  0.05555556,\n",
       "          0.        ,  0.05555556,  0.02777778, -0.02777778,  0.02777778,\n",
       "          0.        ,  0.05555556,  0.05555556,  0.05555556, -0.02777778]])}"
      ]
     },
     "execution_count": 60,
     "metadata": {},
     "output_type": "execute_result"
    }
   ],
   "source": [
    "imp1 = permutation_importance(clf1, X_test, y_test, n_repeats = 50)\n",
    "imp1"
   ]
  },
  {
   "cell_type": "code",
   "execution_count": 61,
   "id": "ec61ad6b",
   "metadata": {},
   "outputs": [
    {
     "data": {
      "text/plain": [
       "{'alcohol': 0.015555555555555534,\n",
       " 'malic_acid': -0.006111111111111114,\n",
       " 'ash': -0.004444444444444446,\n",
       " 'alcalinity_of_ash': -0.03166666666666668,\n",
       " 'magnesium': -0.01444444444444445,\n",
       " 'total_phenols': -0.049444444444444464,\n",
       " 'flavanoids': 0.031666666666666635,\n",
       " 'nonflavanoid_phenols': -0.042777777777777796,\n",
       " 'proanthocyanins': -0.0388888888888889,\n",
       " 'color_intensity': 0.013888888888888869,\n",
       " 'hue': -0.02944444444444446,\n",
       " 'od280/od315_of_diluted_wines': -0.021666666666666678,\n",
       " 'proline': 0.017777777777777757}"
      ]
     },
     "execution_count": 61,
     "metadata": {},
     "output_type": "execute_result"
    }
   ],
   "source": [
    "imp1 = dict(zip(data[\"feature_names\"],imp1.importances_mean))\n",
    "imp1"
   ]
  },
  {
   "cell_type": "code",
   "execution_count": 62,
   "id": "88b0f6ef",
   "metadata": {},
   "outputs": [
    {
     "data": {
      "text/plain": [
       "{'flavanoids': 0.031666666666666635,\n",
       " 'proline': 0.017777777777777757,\n",
       " 'alcohol': 0.015555555555555534,\n",
       " 'color_intensity': 0.013888888888888869,\n",
       " 'ash': -0.004444444444444446,\n",
       " 'malic_acid': -0.006111111111111114,\n",
       " 'magnesium': -0.01444444444444445,\n",
       " 'od280/od315_of_diluted_wines': -0.021666666666666678,\n",
       " 'hue': -0.02944444444444446,\n",
       " 'alcalinity_of_ash': -0.03166666666666668,\n",
       " 'proanthocyanins': -0.0388888888888889,\n",
       " 'nonflavanoid_phenols': -0.042777777777777796,\n",
       " 'total_phenols': -0.049444444444444464}"
      ]
     },
     "execution_count": 62,
     "metadata": {},
     "output_type": "execute_result"
    }
   ],
   "source": [
    "imp1 = {k:v for k, v in sorted(imp1.items(), key = lambda x: x[1], reverse = True)}\n",
    "imp1"
   ]
  },
  {
   "cell_type": "code",
   "execution_count": 63,
   "id": "fc6227bd",
   "metadata": {},
   "outputs": [
    {
     "data": {
      "text/plain": [
       "{'color_intensity': 0.18399333416849992,\n",
       " 'flavanoids': 0.1785261232492319,\n",
       " 'proline': 0.13715438197811092,\n",
       " 'od280/od315_of_diluted_wines': 0.11657123818757842,\n",
       " 'alcohol': 0.10122803126143398,\n",
       " 'hue': 0.09088166541562849,\n",
       " 'total_phenols': 0.05413776550978385,\n",
       " 'malic_acid': 0.037081120313771886,\n",
       " 'proanthocyanins': 0.029838276426774363,\n",
       " 'alcalinity_of_ash': 0.02043848750827008,\n",
       " 'magnesium': 0.020341677347277914,\n",
       " 'ash': 0.016358736053408294,\n",
       " 'nonflavanoid_phenols': 0.013449162580230009}"
      ]
     },
     "execution_count": 63,
     "metadata": {},
     "output_type": "execute_result"
    }
   ],
   "source": [
    "imp"
   ]
  },
  {
   "cell_type": "code",
   "execution_count": 64,
   "id": "97935e63",
   "metadata": {},
   "outputs": [
    {
     "data": {
      "text/plain": [
       "{'importances_mean': array([ 0.04666667,  0.02277778,  0.        ,  0.        ,  0.01      ,\n",
       "         0.        , -0.02111111, -0.01722222, -0.02277778,  0.06666667,\n",
       "        -0.00444444, -0.02333333,  0.08277778]),\n",
       " 'importances_std': array([0.03115077, 0.01203134, 0.        , 0.        , 0.01822358,\n",
       "        0.        , 0.01186342, 0.01348296, 0.01067187, 0.04479032,\n",
       "        0.0101835 , 0.0101835 , 0.03355942]),\n",
       " 'importances': array([[ 0.05555556,  0.05555556,  0.05555556,  0.02777778,  0.        ,\n",
       "          0.05555556,  0.11111111,  0.08333333,  0.02777778,  0.        ,\n",
       "          0.08333333,  0.        ,  0.11111111,  0.08333333,  0.02777778,\n",
       "          0.08333333,  0.02777778,  0.08333333,  0.05555556,  0.02777778,\n",
       "          0.08333333,  0.02777778,  0.02777778,  0.05555556,  0.08333333,\n",
       "          0.02777778,  0.02777778,  0.02777778,  0.        ,  0.05555556,\n",
       "          0.        ,  0.08333333,  0.02777778,  0.05555556,  0.05555556,\n",
       "          0.05555556,  0.05555556,  0.05555556, -0.02777778,  0.05555556,\n",
       "          0.05555556,  0.02777778,  0.02777778,  0.08333333,  0.05555556,\n",
       "          0.        ,  0.05555556,  0.        ,  0.05555556,  0.08333333],\n",
       "        [ 0.02777778,  0.        ,  0.02777778,  0.02777778,  0.02777778,\n",
       "          0.02777778,  0.02777778,  0.02777778,  0.02777778,  0.02777778,\n",
       "          0.02777778,  0.02777778,  0.02777778,  0.02777778,  0.02777778,\n",
       "          0.02777778,  0.        ,  0.02777778,  0.02777778,  0.02777778,\n",
       "          0.02777778,  0.02777778,  0.02777778,  0.02777778,  0.02777778,\n",
       "          0.        ,  0.02777778,  0.02777778,  0.02777778,  0.02777778,\n",
       "          0.        ,  0.02777778,  0.        ,  0.02777778,  0.02777778,\n",
       "          0.        ,  0.02777778,  0.02777778,  0.02777778,  0.02777778,\n",
       "          0.02777778, -0.02777778,  0.02777778,  0.02777778,  0.02777778,\n",
       "          0.        ,  0.02777778,  0.02777778,  0.02777778,  0.02777778],\n",
       "        [ 0.        ,  0.        ,  0.        ,  0.        ,  0.        ,\n",
       "          0.        ,  0.        ,  0.        ,  0.        ,  0.        ,\n",
       "          0.        ,  0.        ,  0.        ,  0.        ,  0.        ,\n",
       "          0.        ,  0.        ,  0.        ,  0.        ,  0.        ,\n",
       "          0.        ,  0.        ,  0.        ,  0.        ,  0.        ,\n",
       "          0.        ,  0.        ,  0.        ,  0.        ,  0.        ,\n",
       "          0.        ,  0.        ,  0.        ,  0.        ,  0.        ,\n",
       "          0.        ,  0.        ,  0.        ,  0.        ,  0.        ,\n",
       "          0.        ,  0.        ,  0.        ,  0.        ,  0.        ,\n",
       "          0.        ,  0.        ,  0.        ,  0.        ,  0.        ],\n",
       "        [ 0.        ,  0.        ,  0.        ,  0.        ,  0.        ,\n",
       "          0.        ,  0.        ,  0.        ,  0.        ,  0.        ,\n",
       "          0.        ,  0.        ,  0.        ,  0.        ,  0.        ,\n",
       "          0.        ,  0.        ,  0.        ,  0.        ,  0.        ,\n",
       "          0.        ,  0.        ,  0.        ,  0.        ,  0.        ,\n",
       "          0.        ,  0.        ,  0.        ,  0.        ,  0.        ,\n",
       "          0.        ,  0.        ,  0.        ,  0.        ,  0.        ,\n",
       "          0.        ,  0.        ,  0.        ,  0.        ,  0.        ,\n",
       "          0.        ,  0.        ,  0.        ,  0.        ,  0.        ,\n",
       "          0.        ,  0.        ,  0.        ,  0.        ,  0.        ],\n",
       "        [ 0.        ,  0.        ,  0.02777778,  0.02777778,  0.        ,\n",
       "          0.02777778,  0.        ,  0.        ,  0.02777778,  0.02777778,\n",
       "          0.02777778,  0.        ,  0.02777778,  0.        ,  0.        ,\n",
       "          0.        ,  0.        ,  0.02777778,  0.02777778,  0.02777778,\n",
       "          0.02777778,  0.02777778,  0.02777778,  0.02777778,  0.02777778,\n",
       "         -0.02777778,  0.        ,  0.02777778,  0.        ,  0.02777778,\n",
       "          0.        ,  0.        , -0.02777778, -0.02777778,  0.02777778,\n",
       "          0.02777778,  0.02777778,  0.        ,  0.        ,  0.02777778,\n",
       "          0.02777778, -0.02777778,  0.        ,  0.        ,  0.        ,\n",
       "         -0.02777778,  0.        ,  0.        ,  0.        ,  0.02777778],\n",
       "        [ 0.        ,  0.        ,  0.        ,  0.        ,  0.        ,\n",
       "          0.        ,  0.        ,  0.        ,  0.        ,  0.        ,\n",
       "          0.        ,  0.        ,  0.        ,  0.        ,  0.        ,\n",
       "          0.        ,  0.        ,  0.        ,  0.        ,  0.        ,\n",
       "          0.        ,  0.        ,  0.        ,  0.        ,  0.        ,\n",
       "          0.        ,  0.        ,  0.        ,  0.        ,  0.        ,\n",
       "          0.        ,  0.        ,  0.        ,  0.        ,  0.        ,\n",
       "          0.        ,  0.        ,  0.        ,  0.        ,  0.        ,\n",
       "          0.        ,  0.        ,  0.        ,  0.        ,  0.        ,\n",
       "          0.        ,  0.        ,  0.        ,  0.        ,  0.        ],\n",
       "        [-0.02777778, -0.02777778, -0.02777778, -0.02777778, -0.02777778,\n",
       "          0.        , -0.02777778, -0.02777778, -0.02777778, -0.02777778,\n",
       "         -0.02777778, -0.02777778,  0.        ,  0.        ,  0.        ,\n",
       "          0.        , -0.02777778, -0.02777778, -0.02777778, -0.02777778,\n",
       "         -0.02777778, -0.02777778, -0.02777778, -0.02777778, -0.02777778,\n",
       "         -0.02777778,  0.        , -0.02777778, -0.02777778,  0.        ,\n",
       "         -0.02777778,  0.        , -0.02777778, -0.02777778, -0.02777778,\n",
       "         -0.02777778,  0.        , -0.02777778, -0.02777778,  0.        ,\n",
       "          0.        , -0.02777778, -0.02777778, -0.02777778, -0.02777778,\n",
       "         -0.02777778, -0.02777778, -0.02777778, -0.02777778,  0.        ],\n",
       "        [ 0.        ,  0.        , -0.02777778, -0.02777778,  0.        ,\n",
       "          0.        , -0.02777778, -0.02777778,  0.        ,  0.        ,\n",
       "          0.        ,  0.        ,  0.        , -0.02777778, -0.02777778,\n",
       "          0.        , -0.02777778, -0.02777778,  0.        , -0.02777778,\n",
       "         -0.02777778, -0.02777778,  0.        , -0.02777778, -0.02777778,\n",
       "         -0.02777778,  0.        ,  0.        , -0.02777778,  0.        ,\n",
       "          0.        ,  0.        ,  0.        , -0.02777778, -0.02777778,\n",
       "         -0.02777778, -0.02777778, -0.02777778, -0.02777778, -0.02777778,\n",
       "         -0.02777778, -0.02777778, -0.02777778, -0.02777778, -0.02777778,\n",
       "         -0.02777778, -0.02777778,  0.        , -0.02777778, -0.02777778],\n",
       "        [-0.02777778, -0.02777778, -0.02777778, -0.02777778, -0.02777778,\n",
       "          0.        , -0.02777778, -0.02777778,  0.        , -0.02777778,\n",
       "         -0.02777778,  0.        ,  0.        , -0.02777778, -0.02777778,\n",
       "          0.        , -0.02777778, -0.02777778, -0.02777778, -0.02777778,\n",
       "         -0.02777778, -0.02777778, -0.02777778, -0.02777778, -0.02777778,\n",
       "         -0.02777778,  0.        , -0.02777778, -0.02777778,  0.        ,\n",
       "         -0.02777778,  0.        , -0.02777778, -0.02777778, -0.02777778,\n",
       "         -0.02777778,  0.        , -0.02777778, -0.02777778, -0.02777778,\n",
       "         -0.02777778, -0.02777778, -0.02777778, -0.02777778, -0.02777778,\n",
       "         -0.02777778, -0.02777778, -0.02777778, -0.02777778, -0.02777778],\n",
       "        [ 0.02777778,  0.08333333,  0.05555556,  0.08333333, -0.02777778,\n",
       "          0.08333333,  0.02777778,  0.08333333,  0.02777778,  0.02777778,\n",
       "          0.        ,  0.02777778,  0.16666667,  0.11111111,  0.05555556,\n",
       "          0.05555556,  0.02777778,  0.08333333,  0.13888889,  0.02777778,\n",
       "          0.11111111,  0.13888889,  0.13888889,  0.02777778,  0.05555556,\n",
       "          0.08333333,  0.02777778,  0.08333333,  0.05555556,  0.08333333,\n",
       "          0.08333333,  0.11111111,  0.11111111,  0.05555556,  0.08333333,\n",
       "          0.02777778,  0.11111111,  0.05555556,  0.        ,  0.02777778,\n",
       "          0.16666667,  0.11111111,  0.02777778,  0.08333333,  0.02777778,\n",
       "          0.        ,  0.08333333,  0.        ,  0.08333333,  0.11111111],\n",
       "        [ 0.        , -0.02777778,  0.        ,  0.        ,  0.        ,\n",
       "          0.        ,  0.        ,  0.        , -0.02777778,  0.        ,\n",
       "          0.        , -0.02777778,  0.        ,  0.        ,  0.        ,\n",
       "          0.        ,  0.        ,  0.        ,  0.        ,  0.        ,\n",
       "          0.        ,  0.        ,  0.        ,  0.        ,  0.        ,\n",
       "          0.        ,  0.        ,  0.        ,  0.        ,  0.        ,\n",
       "          0.        ,  0.        , -0.02777778,  0.        , -0.02777778,\n",
       "          0.        ,  0.        ,  0.        ,  0.        ,  0.        ,\n",
       "          0.        , -0.02777778,  0.        ,  0.        ,  0.        ,\n",
       "         -0.02777778,  0.        , -0.02777778,  0.        ,  0.        ],\n",
       "        [ 0.        , -0.02777778, -0.02777778, -0.02777778, -0.02777778,\n",
       "          0.        , -0.02777778, -0.02777778, -0.02777778, -0.02777778,\n",
       "         -0.02777778, -0.02777778,  0.        , -0.02777778,  0.        ,\n",
       "          0.        , -0.02777778, -0.02777778, -0.02777778, -0.02777778,\n",
       "         -0.02777778, -0.02777778,  0.        , -0.02777778, -0.02777778,\n",
       "         -0.02777778, -0.02777778, -0.02777778, -0.02777778, -0.02777778,\n",
       "         -0.02777778, -0.02777778, -0.02777778, -0.02777778, -0.02777778,\n",
       "         -0.02777778, -0.02777778, -0.02777778, -0.02777778,  0.        ,\n",
       "          0.        , -0.02777778, -0.02777778, -0.02777778, -0.02777778,\n",
       "         -0.02777778, -0.02777778, -0.02777778, -0.02777778, -0.02777778],\n",
       "        [ 0.08333333,  0.05555556,  0.08333333,  0.02777778,  0.02777778,\n",
       "          0.13888889,  0.08333333,  0.11111111,  0.11111111,  0.11111111,\n",
       "          0.13888889,  0.02777778,  0.11111111,  0.05555556,  0.08333333,\n",
       "          0.02777778,  0.05555556,  0.13888889,  0.16666667,  0.08333333,\n",
       "          0.08333333,  0.11111111,  0.08333333,  0.05555556,  0.13888889,\n",
       "          0.02777778,  0.08333333,  0.11111111,  0.11111111,  0.05555556,\n",
       "          0.08333333,  0.05555556,  0.11111111,  0.11111111,  0.11111111,\n",
       "          0.08333333,  0.11111111,  0.08333333,  0.05555556,  0.05555556,\n",
       "          0.11111111,  0.08333333,  0.08333333,  0.05555556,  0.08333333,\n",
       "          0.05555556,  0.05555556,  0.02777778,  0.05555556,  0.08333333]])}"
      ]
     },
     "execution_count": 64,
     "metadata": {},
     "output_type": "execute_result"
    }
   ],
   "source": [
    "imprf = permutation_importance(clf, X_test, y_test, n_repeats = 50)\n",
    "imprf"
   ]
  },
  {
   "cell_type": "code",
   "execution_count": 65,
   "id": "310ae195",
   "metadata": {},
   "outputs": [
    {
     "data": {
      "text/plain": [
       "{'alcohol': 0.04666666666666669,\n",
       " 'malic_acid': 0.022777777777777786,\n",
       " 'ash': 0.0,\n",
       " 'alcalinity_of_ash': 0.0,\n",
       " 'magnesium': 0.010000000000000004,\n",
       " 'total_phenols': 0.0,\n",
       " 'flavanoids': -0.021111111111111115,\n",
       " 'nonflavanoid_phenols': -0.01722222222222223,\n",
       " 'proanthocyanins': -0.022777777777777786,\n",
       " 'color_intensity': 0.06666666666666668,\n",
       " 'hue': -0.004444444444444446,\n",
       " 'od280/od315_of_diluted_wines': -0.023333333333333338,\n",
       " 'proline': 0.08277777777777777}"
      ]
     },
     "execution_count": 65,
     "metadata": {},
     "output_type": "execute_result"
    }
   ],
   "source": [
    "imprf = dict(zip(data[\"feature_names\"],imprf.importances_mean))\n",
    "imprf"
   ]
  },
  {
   "cell_type": "code",
   "execution_count": 66,
   "id": "34173037",
   "metadata": {},
   "outputs": [
    {
     "data": {
      "text/plain": [
       "{'flavanoids': 0.031666666666666635,\n",
       " 'proline': 0.017777777777777757,\n",
       " 'alcohol': 0.015555555555555534,\n",
       " 'color_intensity': 0.013888888888888869,\n",
       " 'ash': -0.004444444444444446,\n",
       " 'malic_acid': -0.006111111111111114,\n",
       " 'magnesium': -0.01444444444444445,\n",
       " 'od280/od315_of_diluted_wines': -0.021666666666666678,\n",
       " 'hue': -0.02944444444444446,\n",
       " 'alcalinity_of_ash': -0.03166666666666668,\n",
       " 'proanthocyanins': -0.0388888888888889,\n",
       " 'nonflavanoid_phenols': -0.042777777777777796,\n",
       " 'total_phenols': -0.049444444444444464}"
      ]
     },
     "execution_count": 66,
     "metadata": {},
     "output_type": "execute_result"
    }
   ],
   "source": [
    "imprf = {k:v for k, v in sorted(imp1.items(), key = lambda x: x[1], reverse = True)}\n",
    "imprf"
   ]
  },
  {
   "cell_type": "code",
   "execution_count": 67,
   "id": "bb9a985f",
   "metadata": {},
   "outputs": [
    {
     "data": {
      "text/plain": [
       "{'color_intensity': 0.18399333416849992,\n",
       " 'flavanoids': 0.1785261232492319,\n",
       " 'proline': 0.13715438197811092,\n",
       " 'od280/od315_of_diluted_wines': 0.11657123818757842,\n",
       " 'alcohol': 0.10122803126143398,\n",
       " 'hue': 0.09088166541562849,\n",
       " 'total_phenols': 0.05413776550978385,\n",
       " 'malic_acid': 0.037081120313771886,\n",
       " 'proanthocyanins': 0.029838276426774363,\n",
       " 'alcalinity_of_ash': 0.02043848750827008,\n",
       " 'magnesium': 0.020341677347277914,\n",
       " 'ash': 0.016358736053408294,\n",
       " 'nonflavanoid_phenols': 0.013449162580230009}"
      ]
     },
     "execution_count": 67,
     "metadata": {},
     "output_type": "execute_result"
    }
   ],
   "source": [
    "imp"
   ]
  },
  {
   "cell_type": "code",
   "execution_count": null,
   "id": "6d0ac8a2",
   "metadata": {},
   "outputs": [],
   "source": []
  }
 ],
 "metadata": {
  "kernelspec": {
   "display_name": "Python 3 (ipykernel)",
   "language": "python",
   "name": "python3"
  },
  "language_info": {
   "codemirror_mode": {
    "name": "ipython",
    "version": 3
   },
   "file_extension": ".py",
   "mimetype": "text/x-python",
   "name": "python",
   "nbconvert_exporter": "python",
   "pygments_lexer": "ipython3",
   "version": "3.11.5"
  }
 },
 "nbformat": 4,
 "nbformat_minor": 5
}
